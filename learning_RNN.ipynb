{
 "cells": [
  {
   "cell_type": "code",
   "execution_count": 1,
   "id": "9c894b55-e2f3-41a7-a5d9-cb45e1b1691f",
   "metadata": {},
   "outputs": [],
   "source": [
    "\n",
    "# environment setup\n",
    "import os\n",
    "# one API particularly on Intel architectures Deep Neural Network Library (oneDNN)\n",
    "os.environ['TF_ENABLE_ONEDNN_OPTS'] = '0'\n",
    "\n",
    "# NVIDIA's GPU-accelerated library for Deep Neural Network Library (cuDNN)\n",
    "os.environ['TF_ENABLE_CUDNN_OPTS'] = '1'\n",
    "\n",
    "# The output messages generated during the execution of DeepReg functions.(0..4)\n",
    "os.environ['DEEPREG_LOG_LEVEL'] = '2' # WARNING: Indicates potential issues that are not necessarily errors.\n",
    "\n",
    "# TensorFlow to control the logging level (0..4)\n",
    "os.environ['TF_CPP_MIN_LOG_LEVEL'] = '2' # WARNING logs and above are shown (removes INFO and DEBUG logs).\n",
    "\n",
    "\n",
    "\n",
    "import tensorflow as tf\n",
    "from tensorflow.keras.layers import GRU, LSTM, SimpleRNN\n",
    "\n"
   ]
  },
  {
   "cell_type": "code",
   "execution_count": 2,
   "id": "5474fac3-3e81-45be-b147-66e9a7de744e",
   "metadata": {},
   "outputs": [
    {
     "name": "stdout",
     "output_type": "stream",
     "text": [
      "(16, 5, 3)\n"
     ]
    }
   ],
   "source": [
    "# Define sample input shape (e.g., 16 sequences, 5 time steps, 3 features)\n",
    "batch_size = 16\n",
    "time_steps = 5\n",
    "features = 3\n",
    "input_data = tf.random.normal((batch_size, time_steps, features), dtype = tf.float32)\n",
    "print(input_data.shape)\n",
    "\n",
    "# number of units per layer\n",
    "units_size_per_layer  = 4"
   ]
  },
  {
   "cell_type": "code",
   "execution_count": 3,
   "id": "8501d509-f544-4f95-858e-31127afaca00",
   "metadata": {},
   "outputs": [
    {
     "name": "stdout",
     "output_type": "stream",
     "text": [
      "(16, 5, 4)\n",
      "(16, 4)\n"
     ]
    }
   ],
   "source": [
    "# input / ouput, SimpleRNN\n",
    "SimpleRNN_whole_sequence_output, SimpleRNN_final_memory_state = SimpleRNN(units_size_per_layer, return_sequences=True, return_state=True)(input_data)\n",
    "\n",
    "print(SimpleRNN_whole_sequence_output.shape)\n",
    "print(SimpleRNN_final_memory_state.shape)"
   ]
  },
  {
   "cell_type": "code",
   "execution_count": 4,
   "id": "6b58e858-a142-409f-b645-bc265fcc6850",
   "metadata": {},
   "outputs": [
    {
     "name": "stdout",
     "output_type": "stream",
     "text": [
      "(16, 5, 4)\n",
      "(16, 4)\n",
      "(16, 4)\n"
     ]
    }
   ],
   "source": [
    "# input / ouput, LSTM\n",
    "LSTM_whole_sequence_output, LSTM_final_memory_state, LSTM_final_carry_state = LSTM(units_size_per_layer, return_sequences=True, return_state=True)(input_data)\n",
    "\n",
    "print(LSTM_whole_sequence_output.shape)\n",
    "print(LSTM_final_memory_state.shape)\n",
    "print(LSTM_final_carry_state.shape)"
   ]
  },
  {
   "cell_type": "code",
   "execution_count": 5,
   "id": "b6b5dbb1-3271-4485-b767-afadc9df7b23",
   "metadata": {},
   "outputs": [
    {
     "name": "stdout",
     "output_type": "stream",
     "text": [
      "(16, 5, 4)\n",
      "(16, 4)\n"
     ]
    }
   ],
   "source": [
    "# input / ouput, GRU \n",
    "GRU_whole_sequence_output, GRU_final_memory_state = GRU(units_size_per_layer, return_sequences=True, return_state=True, unroll=True)(input_data)\n",
    "\n",
    "print(GRU_whole_sequence_output.shape)\n",
    "print(GRU_final_memory_state.shape)"
   ]
  },
  {
   "cell_type": "code",
   "execution_count": 6,
   "id": "fd7382f4-30e6-47ba-8bf1-258b44d7132d",
   "metadata": {},
   "outputs": [
    {
     "name": "stdout",
     "output_type": "stream",
     "text": [
      "(16, 5, 4)\n",
      "(16, 4)\n",
      "(16, 4)\n"
     ]
    }
   ],
   "source": [
    "# another approach to visualizing results\n",
    "out = LSTM(units_size_per_layer, return_sequences=True, return_state=True)(input_data)\n",
    "\n",
    "for i in out:\n",
    "    print(i.shape)\n",
    "\n",
    "# LSTM_whole_sequence_output\n",
    "# LSTM_final_memory_state\n",
    "# LSTM_final_carry_state"
   ]
  }
 ],
 "metadata": {
  "kernelspec": {
   "display_name": "Python 3 (ipykernel)",
   "language": "python",
   "name": "python3"
  },
  "language_info": {
   "codemirror_mode": {
    "name": "ipython",
    "version": 3
   },
   "file_extension": ".py",
   "mimetype": "text/x-python",
   "name": "python",
   "nbconvert_exporter": "python",
   "pygments_lexer": "ipython3",
   "version": "3.12.3"
  }
 },
 "nbformat": 4,
 "nbformat_minor": 5
}
